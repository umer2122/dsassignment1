{
 "cells": [
  {
   "cell_type": "markdown",
   "id": "eab71081-8959-46b9-bbf2-c70517e15b5e",
   "metadata": {},
   "source": [
    "### **Exercise 2: Create markdown cell with title of the notebook**\n",
    "### Create a markdown cell with the title Data Science Tools and Ecosystem using H1 style heading.\n",
    "# Data Science Tools and Ecosystem"
   ]
  },
  {
   "cell_type": "markdown",
   "id": "686cd3d3-380b-447c-b738-72873ea005f0",
   "metadata": {},
   "source": [
    "### **Exercise 3 - Create a markdown cell for an introduction**\n",
    "\n",
    "### Write an introductory sentence about the notebook such as the follows:\n",
    "\n",
    "In this notebook, Data Science Tools and Ecosystem are summarized."
   ]
  },
  {
   "cell_type": "markdown",
   "id": "5f2fbc1b-8bb9-4352-bbdf-288335e6bb1f",
   "metadata": {},
   "source": [
    "### **Exercise 4 - Create a markdown cell to list data science languages**\n",
    "\n",
    "### Start the cell with an overview line such as:\n",
    "\n",
    "Some of the popular languages that Data Scientists use are:\n",
    "1. Python\n",
    "2. R\n",
    "3. SQL\n",
    "4. Scala\n",
    "5. Java\n",
    "6. C++\n",
    "7. Julia"
   ]
  },
  {
   "cell_type": "markdown",
   "id": "d48d7b43-a491-4302-9173-4c8ed49c31fa",
   "metadata": {},
   "source": [
    "### **Exercise 5 - Create a markdown cell to list data science libraries**\n",
    "\n",
    "### Add an overview line to the cell like:\n",
    "\n",
    "Some of the commonly used libraries used by Data Scientists include:\n",
    "1. Pandas\n",
    "2. Numpy\n",
    "3. Matplotlib\n",
    "4. Seaborn\n",
    "5. Scikit\n",
    "6. Keras\n",
    "7. Tensor Flow\n",
    "8. PyTorch"
   ]
  },
  {
   "cell_type": "markdown",
   "id": "d737895f-fd10-455e-a692-fa8bf953fc47",
   "metadata": {},
   "source": [
    "### **Exercise 6 - Create a markdown cell with a table of Data Science tools**\n",
    "\n",
    "### Create a single column table in this cell with the first row containing the header Data Science Tools. The subsequent three rows in the table should indicate three development environment open source tools used in data science.\n",
    "\n",
    "| Data Science Tools |\n",
    "| ------------------ |\n",
    "| Jupyter Notebook |\n",
    "| Anaconda |\n",
    "| Visual Studio Code |\n",
    "| Jupyter Lite |"
   ]
  },
  {
   "cell_type": "markdown",
   "id": "cd5c2c87-80f4-4e43-9b96-5937016cbcf3",
   "metadata": {},
   "source": [
    "## **Exercise 7 - Create a markdown cell introducing arithmetic expression examples**\n",
    "\n",
    "## Add a line in this cell with H3 style heading with text like:\n",
    "\n",
    "### Below are a few examples of evaluating arithmetic expressions in Python."
   ]
  },
  {
   "cell_type": "code",
   "execution_count": 5,
   "id": "0d3a284e-5e45-4df0-b14c-bf0b1dcd464a",
   "metadata": {},
   "outputs": [
    {
     "data": {
      "text/plain": [
       "7"
      ]
     },
     "execution_count": 5,
     "metadata": {},
     "output_type": "execute_result"
    }
   ],
   "source": [
    "2+5"
   ]
  },
  {
   "cell_type": "code",
   "execution_count": 6,
   "id": "06408f9e-787d-44b0-9ebe-25ac5417e5ad",
   "metadata": {},
   "outputs": [
    {
     "data": {
      "text/plain": [
       "40"
      ]
     },
     "execution_count": 6,
     "metadata": {},
     "output_type": "execute_result"
    }
   ],
   "source": [
    "8*5"
   ]
  },
  {
   "cell_type": "code",
   "execution_count": 7,
   "id": "d55b130a-b1b6-4f99-9bd2-36f5cf779e7f",
   "metadata": {},
   "outputs": [
    {
     "data": {
      "text/plain": [
       "3.0"
      ]
     },
     "execution_count": 7,
     "metadata": {},
     "output_type": "execute_result"
    }
   ],
   "source": [
    "12/4"
   ]
  },
  {
   "cell_type": "markdown",
   "id": "be46b911-69ee-4479-91e8-d4030493d5b7",
   "metadata": {},
   "source": [
    "### **Exercise 8 - Create a code cell to multiply and add numbers**\n",
    "\n",
    "### In this code cell evaluate the expression (3*4)+5.\n",
    "\n",
    "#### This a simple arithmetic expression to mutiply then add integers."
   ]
  },
  {
   "cell_type": "code",
   "execution_count": 8,
   "id": "c2069448-1aa6-4239-9e84-9e81f25c49bc",
   "metadata": {},
   "outputs": [
    {
     "data": {
      "text/plain": [
       "17"
      ]
     },
     "execution_count": 8,
     "metadata": {},
     "output_type": "execute_result"
    }
   ],
   "source": [
    "(3*4)+5"
   ]
  },
  {
   "cell_type": "markdown",
   "id": "74cdce44-e2fd-49ea-8bda-59fb6e429d68",
   "metadata": {},
   "source": [
    "### **Exercise 9 - Create a code cell to convert minutes to hours**\n",
    "\n",
    "### In this code cell write an expression that converts 200 minutes into hours.\n",
    "\n",
    "#### This will convert 200 minutes to hours by diving by 60."
   ]
  },
  {
   "cell_type": "code",
   "execution_count": 9,
   "id": "4803081d-dc33-4f53-96eb-c6d02163534b",
   "metadata": {},
   "outputs": [
    {
     "data": {
      "text/plain": [
       "3.3333333333333335"
      ]
     },
     "execution_count": 9,
     "metadata": {},
     "output_type": "execute_result"
    }
   ],
   "source": [
    "200/60"
   ]
  },
  {
   "cell_type": "markdown",
   "id": "3bf9874a-b540-446b-b99f-a089168b4149",
   "metadata": {},
   "source": [
    "### **Exercise 10 - Insert a markdown cell to list Objectives**\n",
    "\n",
    "### Below the introduction cell created in Exercise 3, insert a new markdown cell to list the objectives that this notebook covered (i.e. some of the key takeaways from the course). In this new cell start with an introductory line titled: Objectives: in bold font. Then using an unordered list (bullets) indicate 3 to 5 items covered in this notebook, such as List popular languages for Data Science\n",
    "\n",
    "**Objective**\n",
    "- List popular languages for Data Science \n",
    "- List Data Science libraries\n",
    "- Create a table of Data Science tools\n",
    "- Perform arithmetic expression"
   ]
  },
  {
   "cell_type": "markdown",
   "id": "85d14051-324b-4a8b-a6c5-9a5fdff4c406",
   "metadata": {},
   "source": [
    "### **Exercise 11 - Create a markdown cell to indicate the Author's name**\n",
    "\n",
    "### In this markdown cell markdown cell include the following text Author in H2 style heading. Include your name as regular text below the word Author.\n",
    "\n",
    "## Author\n",
    "Hafiz Umar Khan"
   ]
  },
  {
   "cell_type": "code",
   "execution_count": null,
   "id": "2eb5edbc-9e64-45e1-90bf-cf51a179b138",
   "metadata": {},
   "outputs": [],
   "source": []
  }
 ],
 "metadata": {
  "kernelspec": {
   "display_name": "Python 3 (ipykernel)",
   "language": "python",
   "name": "python3"
  },
  "language_info": {
   "codemirror_mode": {
    "name": "ipython",
    "version": 3
   },
   "file_extension": ".py",
   "mimetype": "text/x-python",
   "name": "python",
   "nbconvert_exporter": "python",
   "pygments_lexer": "ipython3",
   "version": "3.12.8"
  }
 },
 "nbformat": 4,
 "nbformat_minor": 5
}
